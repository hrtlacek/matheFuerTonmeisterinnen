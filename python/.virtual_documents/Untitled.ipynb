import numpy as np
import matplotlib.pyplot as plt
sr = 4410
T = 1
N = sr*T
π = pi
t = np.linspace(0, T, N)
f1 = 10
f2 = 1

sigA = sin(f1*t*2*π) + 0.5
sigB = sin(f1*t*2*π)

plt.plot(t,sigA)



