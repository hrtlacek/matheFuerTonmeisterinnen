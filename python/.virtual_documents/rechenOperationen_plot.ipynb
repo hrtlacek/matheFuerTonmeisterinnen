import numpy as np
import matplotlib.pyplot as plt
# import tikzplotlib

import matplotlib as mpl

# mpl.use("pgf")


sr = 4410
T = 1
N = sr*T
π = np.pi
t = np.linspace(0, T, N)
f1 = 10
f2 = 1

sigA = np.sin(f1*t*2*π)*0.2 + 0.5
sigB = np.sin(f2*t*2*π)*0.5

plt.figure(figsize=[7,1.8])
plt.subplot(121)
plt.plot(t,sigA)
plt.axhline(lw=0.5)
plt.ylim([-1,1])
plt.title('Signal A')

plt.subplot(122)
plt.plot(t,sigB)
plt.title('Signal B')
plt.ylim([-1,1])
plt.axhline(lw=0.5)

plt.savefig("signale_rechenop.pgf", bbox_inches='tight') 




x_size = 3
y_size = 1

plt.figure(figsize=[x_size,y_size])
plt.plot(t,sigA+sigB)
plt.ylim([-1.2,1.2])
plt.axhline(lw=0.5)
plt.gca().axes.get_xaxis().set_visible(False)
plt.savefig("signale_rechenop_AplusB.pgf", bbox_inches='tight')
plt.show()

plt.figure(figsize=[x_size,y_size])
plt.plot(t,sigA-sigB)
plt.ylim([-1.2,1.2])
plt.axhline(lw=0.5)
plt.gca().axes.get_xaxis().set_visible(False)
plt.savefig("signale_rechenop_AminusB.pgf", bbox_inches='tight')
plt.show()

plt.figure(figsize=[x_size,y_size])
plt.plot(t,sigA*sigB)
plt.ylim([-1.2,1.2])
plt.axhline(lw=0.5)
plt.gca().axes.get_xaxis().set_visible(False)
plt.savefig("signale_rechenop_AtimesB.pgf", bbox_inches='tight')
plt.show()

plt.figure(figsize=[x_size,y_size])
plt.plot(t,sigB/sigA)
plt.ylim([-1.2,1.2])
plt.axhline(lw=0.5)
plt.gca().axes.get_xaxis().set_visible(False)
plt.savefig("signale_rechenop_BdivA.pgf", bbox_inches='tight')
plt.show()





x_size = 6
y_size = 2

plt.figure(figsize=[x_size,y_size])
plt.subplot(121)
plt.plot(t,sigB, label='$a(t)$')
plt.plot(t,np.abs(sigB), 'r--', label='$|a(t)|$')
# plt.plot(t,np.maximum(sigB, 0), 'g--', label='$max(a(t), 0)$')
plt.ylim([-1.2,1.2])
plt.axhline(lw=0.5)
plt.xlabel('$t$')
plt.legend()
plt.gca().axes.get_xaxis().set_visible(False)

plt.subplot(122)
plt.plot(t,sigB, label='$a(t)$')
# plt.plot(t,np.abs(sigB), 'r--', label='$|a(t)|$')
plt.plot(t,np.maximum(sigB, 0), 'g--', label='$max(a(t), 0)$')
plt.ylim([-1.2,1.2])
plt.axhline(lw=0.5)
plt.xlabel('$t$')
plt.legend()
plt.gca().axes.get_xaxis().set_visible(False)

plt.savefig("signale_absolutwert.pgf", bbox_inches='tight')
plt.show()





plt.figure(figsize=[7, 4])
plt.subplot(121)
x = np.linspace(-3,3, 100)
for i in [-2, -1, 0, 1, 2]:
    plt.plot(x, np.abs(x+i) - 1, label= f'$f(x) = |x + {i}| - 1$' )
plt.axhline(lw=0.5)
plt.axvline(lw=0.5)
plt.xlabel('$x$')
plt.legend()
plt.xlim([-3,3])
plt.ylim([-2,4])
plt.gca().set_aspect('equal', adjustable='box')  # Set aspect to equal

plt.subplot(122)
for i in [-2, -1, 0, 1, 2]:
    plt.plot(x, np.abs(x+1) - i, label= f'$f(x) = |x + 1| - {i}$' )
plt.axhline(lw=0.5)
plt.axvline(lw=0.5)
plt.xlabel('$x$')
plt.xlim([-3,3])
plt.ylim([-2,4])
plt.legend()
plt.gca().set_aspect('equal', adjustable='box')  # Set aspect to equal
plt.savefig("loes_abs_vars.pgf", bbox_inches='tight', pad_inches=0.1)

plt.show()






x_size = 6
y_size = 2

plt.figure(figsize=[x_size,y_size])
plt.subplot(121)
t = np.linspace(-np.pi*2, np.pi*2, 100)
sigC = np.sin(t)
plt.plot(t,sigC, label='$f(x)$')
# plt.plot(t,np.abs(sigB), 'r--', label='$|a(t)|$')
# plt.plot(t,np.maximum(sigB, 0), 'g--', label='$max(a(t), 0)$')
plt.ylim([-1.2,1.2])
plt.axhline(lw=0.5)
plt.axvline(lw=0.5)
plt.xlabel('$x$')
plt.ylabel('$y$')
plt.legend(loc=1)
# plt.gca().axes.get_xaxis().set_visible(False)


plt.savefig("funktion_beispiel.pgf", bbox_inches='tight')
plt.show()






sr = 4410
T = 1
N = sr*T
π = np.pi
t = np.linspace(0, T, N)
f1 = 100


sigA = np.sin(f1*t*2*π)

y = np.tanh(sigA*3)
Y = np.fft.fft(y)
Y = np.fft.fftshift(Y)
fAxis = np.fft.fftfreq(len(Y), d = 1/sr)
fAxis = np.fft.fftshift(fAxis)
plt.plot(fAxis, 20*np.log10(abs(Y)))
plt.ylim([-30, 90])
plt.xlim([0, 1000])





sr = 4410
T = 1
N = sr*T
π = np.pi
t = np.linspace(0, T, N)
f1 = 100


sigA = np.sin(f1*t*2*π)

y = np.abs(sigA) +sigA
Y = np.fft.fft(y)
Y = np.fft.fftshift(Y)
fAxis = np.fft.fftfreq(len(Y), d = 1/sr)
fAxis = np.fft.fftshift(fAxis)
plt.plot(fAxis, 20*np.log10(abs(Y)))
plt.ylim([-30, 90])
plt.xlim([0, 1000])


10**(yLow/20)


20*np.log10(_)


sr = 4410
T = 1
N = sr*T
π = np.pi
t = np.linspace(0, T, N)
f1 = 100

yLow = -50
yHi = 80

yLow_lin = 10**(yLow/20)
yHi_lin = 10**(yHi/20)

sigA = np.sin(f1*t*2*π)


y = np.tanh(sigA*3)
Y = np.fft.fft(y)
Y = np.fft.fftshift(Y)
fAxis = np.fft.fftfreq(len(Y), d = 1/sr)
fAxis = np.fft.fftshift(fAxis)

plt.figure(figsize=[7,3])

plt.subplot(121)
plt.plot(fAxis, abs(Y))
plt.ylim([yLow_lin, yHi_lin])
plt.xlim([0, 2000])
plt.xlabel('f [Hz]')
plt.title("$|X(f)|$")

plt.subplot(122)
plt.plot(fAxis, 20*np.log10(abs(Y)))
plt.ylim([yLow, yHi])
plt.xlim([0, 2000])
plt.xlabel('f [Hz]')
plt.title("$20 log_{10}|(X(f)|$")

plt.savefig("linLog_spec.pgf", bbox_inches='tight')


20*np.log10(yHi_lin)


yHi


yHi_lin


20*np.log10(10000)



