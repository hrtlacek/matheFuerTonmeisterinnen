{
 "cells": [
  {
   "cell_type": "markdown",
   "id": "a6348e5b-9734-426c-993f-f4f39c562b72",
   "metadata": {},
   "source": [
    "https://numpy.org/doc/2.1/reference/generated/numpy.linalg.solve.html"
   ]
  },
  {
   "cell_type": "code",
   "execution_count": 4,
   "id": "1de2227b-69a6-4997-8670-1e42418e5b74",
   "metadata": {},
   "outputs": [
    {
     "name": "stdout",
     "output_type": "stream",
     "text": [
      "%pylab is deprecated, use %matplotlib inline and import the required libraries.\n",
      "Populating the interactive namespace from numpy and matplotlib\n"
     ]
    }
   ],
   "source": [
    "%pylab inline"
   ]
  },
  {
   "cell_type": "markdown",
   "id": "7b51c37d-7676-4d13-b04c-887f05e41a07",
   "metadata": {},
   "source": [
    "# Vektoren"
   ]
  },
  {
   "cell_type": "code",
   "execution_count": 3,
   "id": "4db03043-ed5b-41c4-bc81-ab6f394d8797",
   "metadata": {},
   "outputs": [
    {
     "name": "stdout",
     "output_type": "stream",
     "text": [
      "(3,)\n",
      "[1 2 3]\n"
     ]
    }
   ],
   "source": [
    "a = array([1,2,3]) #Vektor Definition\n",
    "print(a.shape)\n",
    "print(a)"
   ]
  },
  {
   "cell_type": "code",
   "execution_count": 4,
   "id": "b7562f53-3ae3-4cc7-a20c-00cd2c78d9e8",
   "metadata": {},
   "outputs": [
    {
     "name": "stdout",
     "output_type": "stream",
     "text": [
      "(1, 3)\n",
      "[[1 2 3]]\n"
     ]
    }
   ],
   "source": [
    "b = array([[5, 6, 7]]) # Matrix, 1 Reihenvektor\n",
    "print(b.shape)\n",
    "print(b)"
   ]
  },
  {
   "cell_type": "code",
   "execution_count": 5,
   "id": "2b0be856-a47b-40fc-9005-f3a00fccef62",
   "metadata": {},
   "outputs": [
    {
     "name": "stdout",
     "output_type": "stream",
     "text": [
      "(3, 1)\n",
      "[[1]\n",
      " [2]\n",
      " [3]]\n"
     ]
    }
   ],
   "source": [
    "c = array([[8, 9, 10]]).T # Matrix, 1 Spaltenvektor\n",
    "print(c.shape)\n",
    "print(c)"
   ]
  },
  {
   "cell_type": "code",
   "execution_count": 128,
   "id": "7ca97ee5-70d6-4692-8893-c4cc77b2f594",
   "metadata": {},
   "outputs": [
    {
     "data": {
      "text/plain": [
       "array([[1, 2, 3],\n",
       "       [2, 4, 6],\n",
       "       [3, 6, 9]])"
      ]
     },
     "execution_count": 128,
     "metadata": {},
     "output_type": "execute_result"
    }
   ],
   "source": [
    "b*c"
   ]
  },
  {
   "cell_type": "code",
   "execution_count": 129,
   "id": "fca8014f-c5be-4b19-a56f-2351c6957a61",
   "metadata": {},
   "outputs": [
    {
     "data": {
      "text/plain": [
       "array([[14]])"
      ]
     },
     "execution_count": 129,
     "metadata": {},
     "output_type": "execute_result"
    }
   ],
   "source": [
    "b@c"
   ]
  },
  {
   "cell_type": "code",
   "execution_count": 130,
   "id": "00b5e10a-287e-4fb0-a87d-1507e783b528",
   "metadata": {},
   "outputs": [
    {
     "data": {
      "text/plain": [
       "array([[1, 2, 3],\n",
       "       [2, 4, 6],\n",
       "       [3, 6, 9]])"
      ]
     },
     "execution_count": 130,
     "metadata": {},
     "output_type": "execute_result"
    }
   ],
   "source": [
    "c@b"
   ]
  },
  {
   "cell_type": "code",
   "execution_count": 131,
   "id": "6d5c136a-28a7-4643-8bb4-17c6a5d10140",
   "metadata": {},
   "outputs": [
    {
     "data": {
      "text/plain": [
       "array([[0, 0, 0]])"
      ]
     },
     "execution_count": 131,
     "metadata": {},
     "output_type": "execute_result"
    }
   ],
   "source": [
    "cross(a,b)"
   ]
  },
  {
   "cell_type": "code",
   "execution_count": 136,
   "id": "4d724c01-392d-4696-a8bf-d4968baeb89c",
   "metadata": {},
   "outputs": [
    {
     "data": {
      "text/plain": [
       "array([[14]])"
      ]
     },
     "execution_count": 136,
     "metadata": {},
     "output_type": "execute_result"
    }
   ],
   "source": [
    "dot(b,c)"
   ]
  },
  {
   "cell_type": "markdown",
   "id": "c463d9e7-e6e5-45b6-99a4-9dbe6060fef8",
   "metadata": {},
   "source": [
    "## dot vs @\n",
    "Scheinbar ist `@` ein klein wenig schneller, wobei der unterschied nicht signifikant wirkt."
   ]
  },
  {
   "cell_type": "code",
   "execution_count": 141,
   "id": "b39355d1-2a8d-4785-83ff-5b5731839610",
   "metadata": {},
   "outputs": [
    {
     "name": "stdout",
     "output_type": "stream",
     "text": [
      "899 ns ± 20.8 ns per loop (mean ± std. dev. of 7 runs, 1,000,000 loops each)\n"
     ]
    }
   ],
   "source": [
    "%%timeit\n",
    "dot(b,c)"
   ]
  },
  {
   "cell_type": "code",
   "execution_count": 142,
   "id": "e1445a4e-f41d-489f-aaf2-5d8f0831fb86",
   "metadata": {},
   "outputs": [
    {
     "name": "stdout",
     "output_type": "stream",
     "text": [
      "816 ns ± 31.3 ns per loop (mean ± std. dev. of 7 runs, 1,000,000 loops each)\n"
     ]
    }
   ],
   "source": [
    "%%timeit\n",
    "b@c"
   ]
  },
  {
   "cell_type": "code",
   "execution_count": 10,
   "id": "701c6779-dc54-4377-a5bc-e5f8ddf17548",
   "metadata": {},
   "outputs": [],
   "source": [
    "A = np.array([\n",
    "    [2, 1.5, 1],\n",
    "    [1.5, 1, 1],\n",
    "    [0.1, 0.05, 0.02]\n",
    "])\n"
   ]
  },
  {
   "cell_type": "code",
   "execution_count": 11,
   "id": "3496ae28-b62c-4cc5-ad69-c1246aaa5e60",
   "metadata": {},
   "outputs": [
    {
     "data": {
      "text/plain": [
       "array([[2.  , 1.5 , 1.  ],\n",
       "       [1.5 , 1.  , 1.  ],\n",
       "       [0.1 , 0.05, 0.02]])"
      ]
     },
     "execution_count": 11,
     "metadata": {},
     "output_type": "execute_result"
    }
   ],
   "source": [
    "A"
   ]
  },
  {
   "cell_type": "code",
   "execution_count": 12,
   "id": "52558426-5d09-4d2a-897b-fd580db631a0",
   "metadata": {},
   "outputs": [
    {
     "data": {
      "text/plain": [
       "(3, 3)"
      ]
     },
     "execution_count": 12,
     "metadata": {},
     "output_type": "execute_result"
    }
   ],
   "source": [
    "A.shape"
   ]
  },
  {
   "cell_type": "code",
   "execution_count": 19,
   "id": "b48d86d4-af0b-4435-8529-115bafbf122b",
   "metadata": {},
   "outputs": [
    {
     "name": "stdout",
     "output_type": "stream",
     "text": [
      "[[ -1.5    1.    25.  ]\n",
      " [  3.5   -3.   -25.  ]\n",
      " [ -1.25   2.5  -12.5 ]]\n"
     ]
    }
   ],
   "source": [
    "A_inv = linalg.inv(A)\n",
    "print(A_inv)"
   ]
  },
  {
   "cell_type": "markdown",
   "id": "e41967bd-e301-4075-9c97-dbd916b8df48",
   "metadata": {},
   "source": [
    "$AA^{-1} = I$ "
   ]
  },
  {
   "cell_type": "code",
   "execution_count": 21,
   "id": "f1a02f36-6c88-4a30-acfa-e3633f99e030",
   "metadata": {},
   "outputs": [
    {
     "data": {
      "text/plain": [
       "array([[ 1.00000000e+00,  0.00000000e+00,  0.00000000e+00],\n",
       "       [ 0.00000000e+00,  1.00000000e+00,  0.00000000e+00],\n",
       "       [-6.07153217e-18, -1.56125113e-17,  1.00000000e+00]])"
      ]
     },
     "execution_count": 21,
     "metadata": {},
     "output_type": "execute_result"
    }
   ],
   "source": [
    "A@A_inv"
   ]
  },
  {
   "cell_type": "code",
   "execution_count": 17,
   "id": "956f7e32-ad9e-44d8-bec7-b79774ad1d80",
   "metadata": {},
   "outputs": [
    {
     "data": {
      "text/plain": [
       "0.02"
      ]
     },
     "execution_count": 17,
     "metadata": {},
     "output_type": "execute_result"
    }
   ],
   "source": [
    "linalg.det(A)"
   ]
  },
  {
   "cell_type": "code",
   "execution_count": 16,
   "id": "c0c37653-989b-482c-8696-7f38061cea27",
   "metadata": {},
   "outputs": [
    {
     "name": "stdout",
     "output_type": "stream",
     "text": [
      "λ:(3.1306444585383257+0j), v:[-0.80926838+0.j -0.586369  +0.j -0.0354413 +0.j]\n",
      "λ:(-0.0553222292691623+0.05768805716671609j), v:[-0.58724473-0.13906159j  0.75140307+0.j          0.08789472+0.25193936j]\n",
      "λ:(-0.0553222292691623-0.05768805716671609j), v:[-0.58724473+0.13906159j  0.75140307-0.j          0.08789472-0.25193936j]\n"
     ]
    }
   ],
   "source": [
    "λs, Vs = linalg.eig(A) #getting eigen values and corresponding eigenvectors.\n",
    "for i in range(len(λs)):\n",
    "    print(f\"λ:{λs[i]}, v:{Vs[:,i]}\")"
   ]
  },
  {
   "cell_type": "markdown",
   "id": "b7ff7396-163a-4a64-994e-3346f5e1848b",
   "metadata": {},
   "source": [
    "Trying to solve the following linear system of equations:\n",
    "\n",
    "$$ \\begin{aligned}\n",
    "    2x + 1.5y + z &= 50, \\\\\n",
    "    1.5x + y + z &= 40, \\\\\n",
    "    0.1x + 0.05y + 0.02z &= 2.\n",
    "\\end{aligned}$$\n",
    "\n",
    "\n",
    "The system can be written in matrix form as:\n",
    "$$ \\begin{bmatrix}\n",
    "2 & 1.5 & 1 \\\\\n",
    "1.5 & 1 & 1 \\\\\n",
    "0.1 & 0.05 & 0.02\n",
    "\\end{bmatrix}\n",
    "\\begin{bmatrix}\n",
    "x \\\\ y \\\\ z\n",
    "\\end{bmatrix} = \\begin{bmatrix} 50 \\\\ 40 \\\\ 2 \\end{bmatrix} $$"
   ]
  },
  {
   "cell_type": "markdown",
   "id": "636a3349-fe0e-4150-8712-a6c4ccd23498",
   "metadata": {},
   "source": [
    "## Using Numpy"
   ]
  },
  {
   "cell_type": "code",
   "execution_count": 2,
   "id": "f37d6ee8-2781-4abd-b56c-4692ce35f284",
   "metadata": {},
   "outputs": [
    {
     "name": "stdout",
     "output_type": "stream",
     "text": [
      "x = 15.00, y = 5.00, z = 12.50\n"
     ]
    }
   ],
   "source": [
    "# Coefficients matrix\n",
    "A = np.array([\n",
    "    [2, 1.5, 1],\n",
    "    [1.5, 1, 1],\n",
    "    [0.1, 0.05, 0.02]\n",
    "])\n",
    "\n",
    "# Constants vector\n",
    "b = np.array([50, 40, 2])\n",
    "\n",
    "# Solve the system\n",
    "x = np.linalg.solve(A, b)\n",
    "\n",
    "# Display the result\n",
    "print(f\"x = {x[0]:.2f}, y = {x[1]:.2f}, z = {x[2]:.2f}\")"
   ]
  },
  {
   "cell_type": "markdown",
   "id": "f30bb66b-6d77-4318-92b1-80237cb3c7bf",
   "metadata": {},
   "source": [
    "## Using sympy"
   ]
  },
  {
   "cell_type": "code",
   "execution_count": 5,
   "id": "1e19f26d-9bf6-401e-b091-68399a390985",
   "metadata": {},
   "outputs": [
    {
     "data": {
      "text/plain": [
       "[{x: 15.0000000000000, y: 5.00000000000000, z: 12.5000000000000}]"
      ]
     },
     "execution_count": 5,
     "metadata": {},
     "output_type": "execute_result"
    }
   ],
   "source": [
    "from sympy import solve\n",
    "from sympy.abc import x, y, z\n",
    "equations = [x*2 + 1.5*y + z - 50, 1.5*x + y + z - 40, 0.1*x + 0.05*y + 0.02*z - 2]\n",
    "solutions = solve(equations, x, y, z, dict=True)\n",
    "solutions"
   ]
  },
  {
   "cell_type": "markdown",
   "id": "cc944f80-767c-4f39-b74a-aa3196a315aa",
   "metadata": {},
   "source": [
    "## Use matrizes to model probabilistic evolving systems (Markov)\n",
    "See also: https://www.youtube.com/watch?v=K-8F_zDMDUI&list=PLMrJAkhIeNNTYaOnVI3QpH7jgULnAmvPA&index=3"
   ]
  },
  {
   "cell_type": "code",
   "execution_count": 22,
   "id": "8363ffa3-c2bb-4cc6-b26c-7093a0cfdfad",
   "metadata": {},
   "outputs": [
    {
     "data": {
      "text/plain": [
       "array([[0.5 , 0.1 , 0.3 ],\n",
       "       [0.25, 0.6 , 0.2 ],\n",
       "       [0.25, 0.3 , 0.5 ]])"
      ]
     },
     "execution_count": 22,
     "metadata": {},
     "output_type": "execute_result"
    }
   ],
   "source": [
    "A = array([[0.5, 0.1, 0.3],\n",
    "          [0.25, 0.6, 0.2],\n",
    "          [0.25, 0.3, 0.5]])\n",
    "A"
   ]
  },
  {
   "cell_type": "code",
   "execution_count": 29,
   "id": "9935db03-e969-47b8-b0c7-8daffced49c3",
   "metadata": {},
   "outputs": [],
   "source": [
    "x_0 = array([[0.2, 0.7, 0.1]]).T\n",
    "# for i in range(20):"
   ]
  },
  {
   "cell_type": "code",
   "execution_count": 30,
   "id": "88327dc8-1baa-4b83-aa38-415c6dcba335",
   "metadata": {},
   "outputs": [
    {
     "data": {
      "text/plain": [
       "array([[0.2],\n",
       "       [0.7],\n",
       "       [0.1]])"
      ]
     },
     "execution_count": 30,
     "metadata": {},
     "output_type": "execute_result"
    }
   ],
   "source": [
    "x_0"
   ]
  },
  {
   "cell_type": "code",
   "execution_count": 39,
   "id": "824f0c8a-249a-4df3-8018-b6ebe92aab7d",
   "metadata": {},
   "outputs": [
    {
     "name": "stdout",
     "output_type": "stream",
     "text": [
      "[[0.28571429]\n",
      " [0.35714286]\n",
      " [0.35714286]]\n"
     ]
    },
    {
     "data": {
      "image/png": "[encoded data removed]",
      "text/plain": [
       "<Figure size 640x480 with 1 Axes>"
      ]
     },
     "metadata": {},
     "output_type": "display_data"
    }
   ],
   "source": [
    "x_n = x_0\n",
    "N = 20\n",
    "xs = np.zeros([3, N])\n",
    "for i in range(N):\n",
    "    xs[:,i] = x_n[:,0]\n",
    "    x_n = A@x_n\n",
    "\n",
    "print(x_n)\n",
    "plot(xs.T);\n"
   ]
  },
  {
   "cell_type": "code",
   "execution_count": 55,
   "id": "3730fe77-7d97-4d12-bfee-69d5ef4580a7",
   "metadata": {},
   "outputs": [
    {
     "name": "stdout",
     "output_type": "stream",
     "text": [
      "[0.3 1.  0.3]\n",
      "[[-0.81649658  0.49236596  0.81649658]\n",
      " [ 0.40824829  0.61545745 -0.40824829]\n",
      " [ 0.40824829  0.61545745 -0.40824829]]\n"
     ]
    }
   ],
   "source": [
    "λs, Vs = eig(A)\n",
    "print(λs)\n",
    "print(Vs)"
   ]
  },
  {
   "cell_type": "markdown",
   "id": "8c55653e-801d-46e6-9ba5-0185b5a054f2",
   "metadata": {},
   "source": [
    "Use the eigenvector corresponding to $\\lambda = 1$, normalize it (so probabilities add up to 1):"
   ]
  },
  {
   "cell_type": "code",
   "execution_count": 54,
   "id": "833f9f00-270d-45ed-b4d3-27d69d67188d",
   "metadata": {},
   "outputs": [
    {
     "data": {
      "text/plain": [
       "array([0.28571429, 0.35714286, 0.35714286])"
      ]
     },
     "execution_count": 54,
     "metadata": {},
     "output_type": "execute_result"
    }
   ],
   "source": [
    "Vs[:,1]/(Vs[:,1].sum())"
   ]
  },
  {
   "cell_type": "markdown",
   "id": "36474251-44b6-4296-8173-7082763492eb",
   "metadata": {},
   "source": [
    "The same as the final probablity state of the system!"
   ]
  },
  {
   "cell_type": "code",
   "execution_count": 124,
   "id": "9669e0f3-ed9c-4b1a-8a8d-c0a2e7002616",
   "metadata": {},
   "outputs": [
    {
     "name": "stdout",
     "output_type": "stream",
     "text": [
      "[[0.68566061]\n",
      " [0.62575692]\n",
      " [0.68858248]]\n"
     ]
    },
    {
     "data": {
      "image/png": "[encoded data removed]",
      "text/plain": [
       "<Figure size 640x480 with 1 Axes>"
      ]
     },
     "metadata": {},
     "output_type": "display_data"
    }
   ],
   "source": [
    "# Define the cyclic transition matrix\n",
    "A = np.array([\n",
    "    [0, 1, 0.1],\n",
    "    [0, 0, 0.9],\n",
    "    [1, 0, 0]\n",
    "])\n",
    "\n",
    "x_0 = array([[1,0,1]]).T\n",
    "x_n = x_0\n",
    "N = 90\n",
    "xs = np.zeros([3, N])\n",
    "for i in range(N):\n",
    "    xs[:,i] = x_n[:,0]\n",
    "    x_n = A@x_n\n",
    "\n",
    "print(x_n)\n",
    "plot(xs.T);\n"
   ]
  },
  {
   "cell_type": "code",
   "execution_count": 122,
   "id": "e138956e-82bd-4675-b1de-f3bdf8821a46",
   "metadata": {},
   "outputs": [
    {
     "data": {
      "text/plain": [
       "array([-0.5+0.8660254j, -0.5-0.8660254j,  1. +0.j       ])"
      ]
     },
     "execution_count": 122,
     "metadata": {},
     "output_type": "execute_result"
    }
   ],
   "source": [
    "λs, Vs =eig(A)\n",
    "λs"
   ]
  },
  {
   "cell_type": "markdown",
   "id": "834b77fc-008d-4bd8-a3f3-27b7b227caf9",
   "metadata": {},
   "source": [
    "### Complex eigenvalues in Markov systems indicate oscillatory behavior.\n",
    "If the manitudes of the complex eigenvalues are < 1, they decay over time, leaving the steady state associated to the $\\lambda=1$ eigenvalue. If they have magnitude 1, they dont decau and we see non convergent oscillattory behavior."
   ]
  },
  {
   "cell_type": "code",
   "execution_count": null,
   "id": "85813b03-b0cc-425c-81a5-e7fe972118f0",
   "metadata": {},
   "outputs": [],
   "source": []
  },
  {
   "cell_type": "markdown",
   "id": "ed3e0726-3b08-45d1-b796-a64a986cf594",
   "metadata": {},
   "source": [
    "## Eigenvalues in State Space System Description"
   ]
  },
  {
   "cell_type": "code",
   "execution_count": 56,
   "id": "bb96895f-f840-4cf3-b459-89f034ac7e4a",
   "metadata": {},
   "outputs": [],
   "source": [
    "import scipy.signal as sig"
   ]
  },
  {
   "cell_type": "code",
   "execution_count": 86,
   "id": "3761f70f-004c-4016-b4c7-bf6089902e94",
   "metadata": {},
   "outputs": [],
   "source": [
    "num = [10, 3]\n",
    "den = np.array([1 , 3 , 2])\n",
    "sys = sig.TransferFunction(num, den)"
   ]
  },
  {
   "cell_type": "code",
   "execution_count": 87,
   "id": "f1bcde29-493d-4078-ba48-5692edc37ead",
   "metadata": {},
   "outputs": [
    {
     "data": {
      "text/plain": [
       "array([-2., -1.])"
      ]
     },
     "execution_count": 87,
     "metadata": {},
     "output_type": "execute_result"
    }
   ],
   "source": [
    "sys.poles"
   ]
  },
  {
   "cell_type": "code",
   "execution_count": 88,
   "id": "69009218-9e95-4799-be7a-608d2d0163cb",
   "metadata": {},
   "outputs": [
    {
     "data": {
      "text/plain": [
       "array([-0.3])"
      ]
     },
     "execution_count": 88,
     "metadata": {},
     "output_type": "execute_result"
    }
   ],
   "source": [
    "sys.zeros"
   ]
  },
  {
   "cell_type": "code",
   "execution_count": 89,
   "id": "0905b2db-e658-48cd-829b-de50480d7916",
   "metadata": {},
   "outputs": [],
   "source": [
    "ω, mag, ϕ = sig.bode(sys)"
   ]
  },
  {
   "cell_type": "code",
   "execution_count": 90,
   "id": "81ae2395-2818-454d-81d0-055bb7c2d924",
   "metadata": {},
   "outputs": [
    {
     "data": {
      "text/plain": [
       "[<matplotlib.lines.Line2D at 0x7f82857dca90>]"
      ]
     },
     "execution_count": 90,
     "metadata": {},
     "output_type": "execute_result"
    },
    {
     "data": {
      "image/png": "[encoded data removed]",
      "text/plain": [
       "<Figure size 640x480 with 1 Axes>"
      ]
     },
     "metadata": {},
     "output_type": "display_data"
    }
   ],
   "source": [
    "plot(ω, mag)"
   ]
  },
  {
   "cell_type": "code",
   "execution_count": 94,
   "id": "e7042100-10c0-4edc-bafa-ca442855ea4f",
   "metadata": {},
   "outputs": [],
   "source": [
    "ss_sys = sys.to_ss()"
   ]
  },
  {
   "cell_type": "code",
   "execution_count": 97,
   "id": "0dc9829c-8165-49a8-93c5-35c19cc60281",
   "metadata": {},
   "outputs": [],
   "source": [
    "λ, Vs = eig(ss_sys.A)"
   ]
  },
  {
   "cell_type": "code",
   "execution_count": 98,
   "id": "edd3ff44-561a-4585-a4e3-7421b46b3725",
   "metadata": {},
   "outputs": [
    {
     "data": {
      "text/plain": [
       "array([-2., -1.])"
      ]
     },
     "execution_count": 98,
     "metadata": {},
     "output_type": "execute_result"
    }
   ],
   "source": [
    "λ"
   ]
  },
  {
   "cell_type": "markdown",
   "id": "de3fcdc1-b077-47d2-914f-4f54a8fd3de3",
   "metadata": {},
   "source": [
    "## Eigenvalues of the A matrix in state-space are the poles!\n",
    "See eg. https://www.youtube.com/watch?v=x-gVDJr3118"
   ]
  },
  {
   "cell_type": "code",
   "execution_count": 1,
   "id": "eea86c37-6781-438c-8402-572ef239b536",
   "metadata": {},
   "outputs": [],
   "source": [
    "import sympy as sp"
   ]
  },
  {
   "cell_type": "code",
   "execution_count": 144,
   "id": "5bf552b7-c7cb-4797-adb8-b5ccfc64d1a5",
   "metadata": {},
   "outputs": [
    {
     "data": {
      "text/plain": [
       "array([[-3., -2.],\n",
       "       [ 1.,  0.]])"
      ]
     },
     "execution_count": 144,
     "metadata": {},
     "output_type": "execute_result"
    }
   ],
   "source": [
    "ss_sys.A"
   ]
  },
  {
   "cell_type": "code",
   "execution_count": 147,
   "id": "07ecb601-6394-4b10-b2dc-5f6992fb744b",
   "metadata": {},
   "outputs": [
    {
     "data": {
      "text/latex": [
       "$\\displaystyle \\left[\\begin{matrix}-3.0 & -2.0\\\\1.0 & 0\\end{matrix}\\right]$"
      ],
      "text/plain": [
       "Matrix([\n",
       "[-3.0, -2.0],\n",
       "[ 1.0,    0]])"
      ]
     },
     "execution_count": 147,
     "metadata": {},
     "output_type": "execute_result"
    }
   ],
   "source": [
    "A = sp.Matrix(ss_sys.A)\n",
    "A"
   ]
  },
  {
   "cell_type": "code",
   "execution_count": 150,
   "id": "8702f248-5030-474c-bc3c-df99e19d3f54",
   "metadata": {},
   "outputs": [
    {
     "data": {
      "text/latex": [
       "$\\displaystyle 2.0$"
      ],
      "text/plain": [
       "2.00000000000000"
      ]
     },
     "execution_count": 150,
     "metadata": {},
     "output_type": "execute_result"
    }
   ],
   "source": [
    "A.det()"
   ]
  },
  {
   "cell_type": "code",
   "execution_count": 3,
   "id": "eef0ebd3-601c-4003-9653-365b6e651608",
   "metadata": {},
   "outputs": [
    {
     "data": {
      "text/latex": [
       "$\\displaystyle \\left[\\begin{matrix}0.5 & 1\\\\0.75 & 1.5\\end{matrix}\\right]$"
      ],
      "text/plain": [
       "Matrix([\n",
       "[ 0.5,   1],\n",
       "[0.75, 1.5]])"
      ]
     },
     "execution_count": 3,
     "metadata": {},
     "output_type": "execute_result"
    }
   ],
   "source": [
    "a = 0.5\n",
    "b = 1\n",
    "c = 0.75\n",
    "d = 1.5\n",
    "\n",
    "A = sp.Matrix([[a, b],[c, d]])\n",
    "A"
   ]
  },
  {
   "cell_type": "code",
   "execution_count": 34,
   "id": "bc9c92a4-671c-42b4-bca5-b343e33e6a67",
   "metadata": {},
   "outputs": [],
   "source": [
    "from ipywidgets import interact, interactive, fixed, interact_manual\n",
    "import ipywidgets as widgets"
   ]
  },
  {
   "cell_type": "code",
   "execution_count": 33,
   "id": "d374db1c-44fe-47b1-b4c2-de2f233c3a84",
   "metadata": {},
   "outputs": [
    {
     "name": "stdout",
     "output_type": "stream",
     "text": [
      "Determinante:  4.0\n"
     ]
    },
    {
     "data": {
      "image/png": "[encoded data removed]",
      "text/plain": [
       "<Figure size 640x480 with 1 Axes>"
      ]
     },
     "metadata": {},
     "output_type": "display_data"
    }
   ],
   "source": [
    "\n",
    "v = array([[0, 0],[0,1], [1,1], [1,0], [0,0]]).T\n",
    "A = np.array([[2, 1],\n",
    "              [0, 2]])\n",
    "\n",
    "print(\"Determinante: \", det(A))\n",
    "v2 = A@v\n",
    "plot(v[0], v[1], 'k', alpha=0.5)\n",
    "plot(v2[0], v2[1], 'k--')\n",
    "xlim(-5,5)\n",
    "ylim(-5,5)\n",
    "grid()"
   ]
  },
  {
   "cell_type": "code",
   "execution_count": 40,
   "id": "43e06f5c-3178-4f6d-9bac-44a9ebb241d8",
   "metadata": {},
   "outputs": [],
   "source": [
    "# @interact()\n",
    "def plotTransform(a,b,c,d):\n",
    "    \n",
    "    v = array([[0, 0],[0,1], [1,1], [1,0], [0,0]]).T\n",
    "    A = np.array([[a, c],\n",
    "                  [b, d]])\n",
    "\n",
    "    print(\"Determinante: \", det(A))\n",
    "    v2 = A@v\n",
    "    plot(v[0], v[1], 'k', alpha=0.5)\n",
    "    plot(v2[0], v2[1], 'r--')\n",
    "    xlim(-5,5)\n",
    "    ylim(-5,5)\n",
    "    grid();"
   ]
  },
  {
   "cell_type": "markdown",
   "id": "0dee6c68-0224-4878-a6dd-3afd7ec37dc0",
   "metadata": {},
   "source": [
    "## Abbildungen und Determinante\n",
    "Zur intuition: https://www.youtube.com/watch?v=Ip3X9LOh2dk&t=149s"
   ]
  },
  {
   "cell_type": "code",
   "execution_count": 41,
   "id": "534c183c-f728-487c-962e-bb140064bfea",
   "metadata": {},
   "outputs": [
    {
     "data": {
      "application/vnd.jupyter.widget-view+json": {
       "model_id": "42d5162efdf64773bdd13ae3ff53cf2f",
       "version_major": 2,
       "version_minor": 0
      },
      "text/plain": [
       "interactive(children=(FloatSlider(value=1.0, description='a', max=3.0, min=-3.0), FloatSlider(value=0.0, descr…"
      ]
     },
     "metadata": {},
     "output_type": "display_data"
    },
    {
     "data": {
      "text/plain": [
       "<function __main__.plotTransform(a, b, c, d)>"
      ]
     },
     "execution_count": 41,
     "metadata": {},
     "output_type": "execute_result"
    }
   ],
   "source": [
    "interact(plotTransform, a=widgets.FloatSlider(min=-3, max=3, step=0.1, value=1),\n",
    "         b=widgets.FloatSlider(min=-3, max=3, step=0.1, value=0),\n",
    "         c=widgets.FloatSlider(min=-3, max=3, step=0.1, value=0),\n",
    "         d=widgets.FloatSlider(min=-3, max=3, step=0.1, value=1))\n"
   ]
  },
  {
   "cell_type": "code",
   "execution_count": null,
   "id": "f1eadb7a-0837-4d12-8baf-304e23bd4c86",
   "metadata": {},
   "outputs": [],
   "source": []
  }
 ],
 "metadata": {
  "citation-manager": {
   "items": {}
  },
  "kernelspec": {
   "display_name": "Python 3 (ipykernel)",
   "language": "python",
   "name": "python3"
  },
  "language_info": {
   "codemirror_mode": {
    "name": "ipython",
    "version": 3
   },
   "file_extension": ".py",
   "mimetype": "text/x-python",
   "name": "python",
   "nbconvert_exporter": "python",
   "pygments_lexer": "ipython3",
   "version": "3.11.3"
  }
 },
 "nbformat": 4,
 "nbformat_minor": 5
}
