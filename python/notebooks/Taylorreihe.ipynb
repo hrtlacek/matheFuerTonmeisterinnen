{
 "cells": [
  {
   "cell_type": "code",
   "execution_count": 1,
   "id": "5969e87d-78f5-42cf-a202-2b5ecd2b4720",
   "metadata": {},
   "outputs": [],
   "source": [
    "import sympy as sp"
   ]
  },
  {
   "cell_type": "code",
   "execution_count": 2,
   "id": "68ada32d-6a5c-4321-864e-9f20cf0569df",
   "metadata": {},
   "outputs": [],
   "source": [
    "from sympy.abc import x"
   ]
  },
  {
   "cell_type": "code",
   "execution_count": 15,
   "id": "55838006-f7e9-4b69-9996-25da317f1138",
   "metadata": {},
   "outputs": [],
   "source": [
    "f = sp.exp(x*sp.I)"
   ]
  },
  {
   "cell_type": "code",
   "execution_count": 29,
   "id": "30052b76-5585-4800-91ba-9f320c277570",
   "metadata": {},
   "outputs": [
    {
     "data": {
      "text/latex": [
       "$\\displaystyle 1 + i x - \\frac{x^{2}}{2} - \\frac{i x^{3}}{6} + \\frac{x^{4}}{24} + \\frac{i x^{5}}{120} + O\\left(x^{6}\\right)$"
      ],
      "text/plain": [
       "1 + I*x - x**2/2 - I*x**3/6 + x**4/24 + I*x**5/120 + O(x**6)"
      ]
     },
     "execution_count": 29,
     "metadata": {},
     "output_type": "execute_result"
    }
   ],
   "source": [
    "fexp = sp.series(f)\n",
    "fexp"
   ]
  },
  {
   "cell_type": "code",
   "execution_count": 21,
   "id": "8a6be1c7-c688-49e2-a61c-3436daad44c1",
   "metadata": {},
   "outputs": [
    {
     "data": {
      "text/latex": [
       "$\\displaystyle 1 - \\frac{x^{2}}{2} + \\frac{x^{4}}{24} + O\\left(x^{6}\\right)$"
      ],
      "text/plain": [
       "1 - x**2/2 + x**4/24 + O(x**6)"
      ]
     },
     "execution_count": 21,
     "metadata": {},
     "output_type": "execute_result"
    }
   ],
   "source": [
    "cosExp = sp.series(sp.cos(x))\n",
    "cosExp"
   ]
  },
  {
   "cell_type": "code",
   "execution_count": 22,
   "id": "1b1f5dfb-0ad2-42c4-a7ef-958042683133",
   "metadata": {},
   "outputs": [
    {
     "data": {
      "text/latex": [
       "$\\displaystyle i x - \\frac{i x^{3}}{6} + \\frac{i x^{5}}{120} + O\\left(x^{6}\\right)$"
      ],
      "text/plain": [
       "I*x - I*x**3/6 + I*x**5/120 + O(x**6)"
      ]
     },
     "execution_count": 22,
     "metadata": {},
     "output_type": "execute_result"
    }
   ],
   "source": [
    "iSinExp = sp.series(sp.I*sp.sin(x))\n",
    "iSinExp"
   ]
  },
  {
   "cell_type": "code",
   "execution_count": 23,
   "id": "831d685b-f2c1-4fdd-bf95-5f1ce220197c",
   "metadata": {},
   "outputs": [
    {
     "data": {
      "text/latex": [
       "$\\displaystyle 1 + i x - \\frac{x^{2}}{2} - \\frac{i x^{3}}{6} + \\frac{x^{4}}{24} + \\frac{i x^{5}}{120} + O\\left(x^{6}\\right)$"
      ],
      "text/plain": [
       "1 + I*x - x**2/2 - I*x**3/6 + x**4/24 + I*x**5/120 + O(x**6)"
      ]
     },
     "execution_count": 23,
     "metadata": {},
     "output_type": "execute_result"
    }
   ],
   "source": [
    "cosExp+iSinExp"
   ]
  },
  {
   "cell_type": "code",
   "execution_count": 41,
   "id": "0b27b5c1-382b-4178-8f4b-fec6e00111f2",
   "metadata": {},
   "outputs": [
    {
     "data": {
      "text/plain": [
       "'1 - \\\\frac{x^{2}}{2} + \\\\frac{x^{4}}{24} + O\\\\left(x^{6}\\\\right)'"
      ]
     },
     "execution_count": 41,
     "metadata": {},
     "output_type": "execute_result"
    }
   ],
   "source": [
    "sp.latex(cosExp)"
   ]
  },
  {
   "cell_type": "code",
   "execution_count": 31,
   "id": "77ea9c42-60aa-4a4a-8945-64346b50e9f8",
   "metadata": {},
   "outputs": [],
   "source": [
    "# sp.plot(sp.re(f), sp.re(fexp))"
   ]
  },
  {
   "cell_type": "code",
   "execution_count": 40,
   "id": "e55e07b5-ae5b-4446-bc08-f6b9039aed80",
   "metadata": {},
   "outputs": [
    {
     "ename": "ValueError",
     "evalue": "Sum requires values for lower and upper bounds.",
     "output_type": "error",
     "traceback": [
      "\u001b[0;31m---------------------------------------------------------------------------\u001b[0m",
      "\u001b[0;31mValueError\u001b[0m                                Traceback (most recent call last)",
      "Cell \u001b[0;32mIn[40], line 1\u001b[0m\n\u001b[0;32m----> 1\u001b[0m sp\u001b[38;5;241m.\u001b[39mSum(cosExp\u001b[38;5;241m.\u001b[39margs[:\u001b[38;5;241m-\u001b[39m\u001b[38;5;241m1\u001b[39m])\n",
      "File \u001b[0;32m~/miniconda3/lib/python3.12/site-packages/sympy/concrete/summations.py:182\u001b[0m, in \u001b[0;36mSum.__new__\u001b[0;34m(cls, function, *symbols, **assumptions)\u001b[0m\n\u001b[1;32m    180\u001b[0m     \u001b[38;5;28;01mreturn\u001b[39;00m obj\n\u001b[1;32m    181\u001b[0m \u001b[38;5;28;01mif\u001b[39;00m \u001b[38;5;28many\u001b[39m(\u001b[38;5;28mlen\u001b[39m(l) \u001b[38;5;241m!=\u001b[39m \u001b[38;5;241m3\u001b[39m \u001b[38;5;129;01mor\u001b[39;00m \u001b[38;5;28;01mNone\u001b[39;00m \u001b[38;5;129;01min\u001b[39;00m l \u001b[38;5;28;01mfor\u001b[39;00m l \u001b[38;5;129;01min\u001b[39;00m obj\u001b[38;5;241m.\u001b[39mlimits):\n\u001b[0;32m--> 182\u001b[0m     \u001b[38;5;28;01mraise\u001b[39;00m \u001b[38;5;167;01mValueError\u001b[39;00m(\u001b[38;5;124m'\u001b[39m\u001b[38;5;124mSum requires values for lower and upper bounds.\u001b[39m\u001b[38;5;124m'\u001b[39m)\n\u001b[1;32m    184\u001b[0m \u001b[38;5;28;01mreturn\u001b[39;00m obj\n",
      "\u001b[0;31mValueError\u001b[0m: Sum requires values for lower and upper bounds."
     ]
    }
   ],
   "source": [
    "sp.Sum(cosExp.args[:-1])"
   ]
  },
  {
   "cell_type": "code",
   "execution_count": null,
   "id": "a0436f34-19ce-4351-843b-66a16e594bbb",
   "metadata": {},
   "outputs": [],
   "source": [
    "sp.plot"
   ]
  },
  {
   "cell_type": "code",
   "execution_count": 47,
   "id": "47aa5c4f-78fb-4bf5-8d87-6cd2e4d224eb",
   "metadata": {},
   "outputs": [
    {
     "data": {
      "image/png": "[encoded data removed]",
      "text/plain": [
       "<Figure size 640x480 with 1 Axes>"
      ]
     },
     "metadata": {},
     "output_type": "display_data"
    },
    {
     "data": {
      "text/plain": [
       "<sympy.plotting.plot.Plot at 0x7fc5184cdee0>"
      ]
     },
     "execution_count": 47,
     "metadata": {},
     "output_type": "execute_result"
    }
   ],
   "source": [
    "sp.plot(sp.re(f), cosExp.removeO(), (x,-5,5))"
   ]
  },
  {
   "cell_type": "code",
   "execution_count": null,
   "id": "2d092e7d-0ce7-40bc-9e5e-e5182dd383a3",
   "metadata": {},
   "outputs": [],
   "source": []
  }
 ],
 "metadata": {
  "kernelspec": {
   "display_name": "Python 3 (ipykernel)",
   "language": "python",
   "name": "python3"
  },
  "language_info": {
   "codemirror_mode": {
    "name": "ipython",
    "version": 3
   },
   "file_extension": ".py",
   "mimetype": "text/x-python",
   "name": "python",
   "nbconvert_exporter": "python",
   "pygments_lexer": "ipython3",
   "version": "3.12.1"
  }
 },
 "nbformat": 4,
 "nbformat_minor": 5
}
