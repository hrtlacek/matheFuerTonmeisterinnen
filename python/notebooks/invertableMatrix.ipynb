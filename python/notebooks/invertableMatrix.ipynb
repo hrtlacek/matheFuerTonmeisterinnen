{
 "cells": [
  {
   "cell_type": "markdown",
   "id": "f745c7bd-5c9d-4e4a-b938-bc11c0053c58",
   "metadata": {},
   "source": [
    "# (Highly Simplified) Inversion of Filtering\n",
    "\n",
    "Using matrix inversion and convolution as toeplitz matrix."
   ]
  },
  {
   "cell_type": "code",
   "execution_count": 35,
   "id": "86684420-1f4d-43ff-8019-2a0ade639843",
   "metadata": {},
   "outputs": [
    {
     "name": "stdout",
     "output_type": "stream",
     "text": [
      "%pylab is deprecated, use %matplotlib inline and import the required libraries.\n",
      "Populating the interactive namespace from numpy and matplotlib\n"
     ]
    }
   ],
   "source": [
    "%pylab inline\n",
    "import scipy.signal as sig\n",
    "import scipy"
   ]
  },
  {
   "cell_type": "code",
   "execution_count": 37,
   "id": "1c16cfbc-9cbe-4abe-9b51-22d3acd50b50",
   "metadata": {},
   "outputs": [
    {
     "name": "stdout",
     "output_type": "stream",
     "text": [
      "Original x:    [1. 2. 3.]\n",
      "Filtered y:    [1.  2.5 3.5]\n",
      "Recovered x:   [1. 2. 3.]\n"
     ]
    }
   ],
   "source": [
    "# Original signal\n",
    "x = array([1.0, 2.0, 3.0])\n",
    "\n",
    "# FIR filter\n",
    "h = array([1.0, 0.5, -0.5])\n",
    "\n",
    "# Build Toeplitz convolution matrix\n",
    "H = scipy.linalg.toeplitz(h)\n",
    "H = np.tril(H)\n",
    "\n",
    "# Filter the signal\n",
    "y = H @ x\n",
    "\n",
    "# Invert filtering\n",
    "x_recovered = np.linalg.inv(H) @ y\n",
    "\n",
    "print(\"Original x:   \", np.round(x, 3))\n",
    "print(\"Filtered y:   \", np.round(y, 3))\n",
    "print(\"Recovered x:  \", np.round(x_recovered, 3))"
   ]
  }
 ],
 "metadata": {
  "kernelspec": {
   "display_name": "Python 3 (ipykernel)",
   "language": "python",
   "name": "python3"
  },
  "language_info": {
   "codemirror_mode": {
    "name": "ipython",
    "version": 3
   },
   "file_extension": ".py",
   "mimetype": "text/x-python",
   "name": "python",
   "nbconvert_exporter": "python",
   "pygments_lexer": "ipython3",
   "version": "3.12.1"
  }
 },
 "nbformat": 4,
 "nbformat_minor": 5
}
