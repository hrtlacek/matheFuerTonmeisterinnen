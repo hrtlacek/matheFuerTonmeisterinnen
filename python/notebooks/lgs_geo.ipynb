{
 "cells": [
  {
   "cell_type": "markdown",
   "id": "a7e2d507-39c6-4efe-bdf4-0ce73b329988",
   "metadata": {},
   "source": [
    "# Geometrische Interpretation eines Linearen Gleichungssystems:\n",
    "## Zeileninterpretation\n",
    "\n",
    "Dieses Notebook bestimmt die Lösung eines einfachen Linearen Gleichungssytems. \n",
    "\n",
    "Es macht dieses **ziemlich Umständlich**, aus didaktischen Gründen: Es soll die geometrische Interpretation dieser Situation verdeutlicht werden. Allgemein können LGS einfach via `np.linalg.solve()` in einer Zeile Gelöst werden.\n",
    "\n",
    "Gegeben:\n",
    "\n",
    "$$ 2x +3y = 8$$\n",
    "$$ 4x - y = 2$$"
   ]
  },
  {
   "cell_type": "code",
   "execution_count": 1,
   "id": "77bec8ef-ed08-4ad5-ba35-f90ff5b956e8",
   "metadata": {},
   "outputs": [
    {
     "name": "stdout",
     "output_type": "stream",
     "text": [
      "%pylab is deprecated, use %matplotlib inline and import the required libraries.\n",
      "Populating the interactive namespace from numpy and matplotlib\n"
     ]
    }
   ],
   "source": [
    "%pylab inline\n",
    "import sympy as sp\n",
    "from sympy.abc import x,y\n",
    "sx = 6 # plot groesse x.\n",
    "sy = 3 # plot groesse y."
   ]
  },
  {
   "cell_type": "markdown",
   "id": "1a2e07eb-7ebd-486c-8adc-d8948e1d8001",
   "metadata": {},
   "source": [
    "## EIngabe der Koeffizienten, Aufsetzen der Gleichungen\n",
    "Die folgenden koeffizienten können geändert werden und bestimmen unser System. "
   ]
  },
  {
   "cell_type": "code",
   "execution_count": 2,
   "id": "7c680f86-7b4b-475b-9744-4f1b4d6f7a61",
   "metadata": {},
   "outputs": [],
   "source": [
    "a1, a2, b1 = 2, 3, 8 #Zeile 1 des Systems.\n",
    "a3, a4, b2 = 4,-1, 2 #Zeile 2 des Systems."
   ]
  },
  {
   "cell_type": "code",
   "execution_count": 3,
   "id": "5ffcebb5-cadc-41de-b474-b4c3451f94fe",
   "metadata": {},
   "outputs": [
    {
     "data": {
      "text/latex": [
       "$\\displaystyle 2 x + 3 y = 8$"
      ],
      "text/plain": [
       "Eq(2*x + 3*y, 8)"
      ]
     },
     "execution_count": 3,
     "metadata": {},
     "output_type": "execute_result"
    }
   ],
   "source": [
    "eq1 = sp.Eq(a1*x + a2*y,b1)\n",
    "eq1"
   ]
  },
  {
   "cell_type": "code",
   "execution_count": 4,
   "id": "e354613f-bb60-4ec2-bee4-97a6c38566b8",
   "metadata": {},
   "outputs": [
    {
     "data": {
      "text/latex": [
       "$\\displaystyle 4 x - y = 2$"
      ],
      "text/plain": [
       "Eq(4*x - y, 2)"
      ]
     },
     "execution_count": 4,
     "metadata": {},
     "output_type": "execute_result"
    }
   ],
   "source": [
    "eq2 = sp.Eq(a3*x + a4*y,b2)\n",
    "eq2"
   ]
  },
  {
   "cell_type": "markdown",
   "id": "2ecaee07-27b9-40aa-8f52-d9a9c67f8464",
   "metadata": {},
   "source": [
    "## Lösen für $y$"
   ]
  },
  {
   "cell_type": "code",
   "execution_count": 5,
   "id": "d3113227-96c6-4434-97e5-75f01267afee",
   "metadata": {},
   "outputs": [],
   "source": [
    "solution1 = sp.solve(eq1, y)\n",
    "solution2 = sp.solve(eq2, y)"
   ]
  },
  {
   "cell_type": "code",
   "execution_count": 6,
   "id": "8f160f42-853a-4c69-8348-e31342858443",
   "metadata": {},
   "outputs": [
    {
     "data": {
      "text/latex": [
       "$\\displaystyle \\frac{8}{3} - \\frac{2 x}{3}$"
      ],
      "text/plain": [
       "8/3 - 2*x/3"
      ]
     },
     "execution_count": 6,
     "metadata": {},
     "output_type": "execute_result"
    }
   ],
   "source": [
    "solution1[0]"
   ]
  },
  {
   "cell_type": "code",
   "execution_count": 7,
   "id": "dfb0cdda-1a94-438c-97cf-266e2b8635bd",
   "metadata": {},
   "outputs": [
    {
     "data": {
      "text/latex": [
       "$\\displaystyle 4 x - 2$"
      ],
      "text/plain": [
       "4*x - 2"
      ]
     },
     "execution_count": 7,
     "metadata": {},
     "output_type": "execute_result"
    }
   ],
   "source": [
    "solution2[0]"
   ]
  },
  {
   "cell_type": "markdown",
   "id": "304653c9-89e4-409b-8eb1-8ad71cd5b783",
   "metadata": {},
   "source": [
    "# Plot der geometrischen Interpretation"
   ]
  },
  {
   "cell_type": "code",
   "execution_count": 8,
   "id": "4a945ec5-c9e6-4038-a579-079cead736dd",
   "metadata": {},
   "outputs": [
    {
     "data": {
      "text/plain": [
       "<matplotlib.legend.Legend at 0x7f9ab555f3e0>"
      ]
     },
     "execution_count": 8,
     "metadata": {},
     "output_type": "execute_result"
    },
    {
     "data": {
      "image/png": "[encoded data removed]",
      "text/plain": [
       "<Figure size 600x300 with 1 Axes>"
      ]
     },
     "metadata": {},
     "output_type": "display_data"
    }
   ],
   "source": [
    "figure(figsize=[sx,sy])\n",
    "\n",
    "x_n = linspace(-4,4, 200)\n",
    "y1 = sp.lambdify(x,solution1[0])\n",
    "y2 = sp.lambdify(x,solution2[0])\n",
    "\n",
    "y_n = y1(x_n)\n",
    "plot(x_n,y_n, label='$'+sp.latex(solution1[0])+'$')\n",
    "y_n = y2(x_n)\n",
    "plot(x_n,y_n, label='$'+sp.latex(solution2[0])+'$')\n",
    "\n",
    "\n",
    "A = array([[a1,a2],[a3,a4]])\n",
    "b = array([b1,b2])\n",
    "sol = np.linalg.solve(A,b)\n",
    "scatter(*sol,c='r', label=f'Lösung: $x={sol[0]}$, $y={sol[1]}$')\n",
    "\n",
    "xlabel('$x$')\n",
    "ylabel('$y$')\n",
    "\n",
    "ylim([-3,6])\n",
    "grid()\n",
    "\n",
    "axhline(lw=0.5)\n",
    "axvline(lw=0.5)\n",
    "legend()\n",
    "# plt.savefig('../plots/lgs_geom.pgf', bbox_inches='tight');"
   ]
  },
  {
   "cell_type": "markdown",
   "id": "b59ed3b1-7dcc-47e5-9b00-ee2f26125a75",
   "metadata": {},
   "source": [
    "## 'Spalteninterpretation'\n",
    "Darstellung als Linearkombination der Spaltenvektoren.\n",
    "\n",
    "$$\n",
    "x \\color{red} \\begin{bmatrix} 2 \\\\ 4 \\end{bmatrix}  \n",
    " \\color{white} +  y \\color{green} \\begin{bmatrix} 3 \\\\ -1 \\end{bmatrix}  \n",
    "=\n",
    "\\color{blue} \\begin{bmatrix} 8 \\\\ 2 \\end{bmatrix} $$"
   ]
  },
  {
   "cell_type": "code",
   "execution_count": 44,
   "id": "6587d136-e4db-462d-8bff-96eec29473db",
   "metadata": {},
   "outputs": [
    {
     "data": {
      "image/png": "[encoded data removed]",
      "text/plain": [
       "<Figure size 428.571x300 with 1 Axes>"
      ]
     },
     "metadata": {},
     "output_type": "display_data"
    }
   ],
   "source": [
    "figure(figsize=[sy*(10/7),sy])\n",
    "\n",
    "quiver([0],[0], [a1],[a3], angles='xy', scale_units='xy',scale=1, color='#E94F37', alpha=0.5)\n",
    "quiver([0],[0], [a2],[a4],  angles='xy', scale_units='xy',scale=1, color='#44BBA4', alpha = 0.5)\n",
    "\n",
    "quiver([0],[0], [b1],[b2],  angles='xy', scale_units='xy',scale=1, color='#3F88C5')\n",
    "\n",
    "quiver([a1*sol[0]],[a3*sol[0]], [a2*sol[1]],[a4*sol[1]],  angles='xy', scale_units='xy',scale=1, color='#44BBA4')\n",
    "\n",
    "xlim([-1,9])\n",
    "ylim([-2,5])\n",
    "axhline(lw=0.5)\n",
    "axvline(lw=0.5)\n",
    "grid()\n",
    "plt.savefig('../plots/lgsGeomColumn.pgf', bbox_inches='tight');"
   ]
  },
  {
   "cell_type": "code",
   "execution_count": null,
   "id": "345f6600-c3f9-4a70-a51f-68b284adeda4",
   "metadata": {},
   "outputs": [],
   "source": []
  }
 ],
 "metadata": {
  "kernelspec": {
   "display_name": "Python 3 (ipykernel)",
   "language": "python",
   "name": "python3"
  },
  "language_info": {
   "codemirror_mode": {
    "name": "ipython",
    "version": 3
   },
   "file_extension": ".py",
   "mimetype": "text/x-python",
   "name": "python",
   "nbconvert_exporter": "python",
   "pygments_lexer": "ipython3",
   "version": "3.12.1"
  }
 },
 "nbformat": 4,
 "nbformat_minor": 5
}
