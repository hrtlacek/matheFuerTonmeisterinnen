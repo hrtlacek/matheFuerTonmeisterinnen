{
 "cells": [
  {
   "cell_type": "code",
   "execution_count": 1,
   "id": "1acd2d3e-b0c8-491c-a8ba-33ccd358abfb",
   "metadata": {},
   "outputs": [
    {
     "name": "stdout",
     "output_type": "stream",
     "text": [
      "%pylab is deprecated, use %matplotlib inline and import the required libraries.\n",
      "Populating the interactive namespace from numpy and matplotlib\n"
     ]
    }
   ],
   "source": [
    "%pylab inline\n",
    "from ipywidgets import interact, interactive, fixed, interact_manual\n",
    "import ipywidgets as widgets"
   ]
  },
  {
   "cell_type": "code",
   "execution_count": 2,
   "id": "ae27a28a-3ee8-4524-a190-195b35a259f5",
   "metadata": {},
   "outputs": [
    {
     "name": "stdout",
     "output_type": "stream",
     "text": [
      "Determinante:  4.0\n"
     ]
    },
    {
     "data": {
      "image/png": "[encoded data removed]",
      "text/plain": [
       "<Figure size 640x480 with 1 Axes>"
      ]
     },
     "metadata": {},
     "output_type": "display_data"
    }
   ],
   "source": [
    "\n",
    "v = array([[0, 0],[0,1], [1,1], [1,0], [0,0]]).T\n",
    "A = np.array([[2, 1],\n",
    "              [0, 2]])\n",
    "\n",
    "print(\"Determinante: \", det(A))\n",
    "v2 = A@v\n",
    "plot(v[0], v[1], 'k', alpha=0.5)\n",
    "plot(v2[0], v2[1], 'k--')\n",
    "xlim(-5,5)\n",
    "ylim(-5,5)\n",
    "grid()"
   ]
  },
  {
   "cell_type": "code",
   "execution_count": 3,
   "id": "4eac3992-a977-474c-a3e6-9ce7ef5f0f6a",
   "metadata": {},
   "outputs": [],
   "source": [
    "# @interact()\n",
    "def plotTransform(a,b,c,d):\n",
    "    \n",
    "    v = array([[0, 0],[0,1], [1,1], [1,0], [0,0]]).T\n",
    "    A = np.array([[a, c],\n",
    "                  [b, d]])\n",
    "\n",
    "    print(\"Determinante: \", det(A))\n",
    "    v2 = A@v\n",
    "    plot(v[0], v[1], 'k', alpha=0.5)\n",
    "    plot(v2[0], v2[1], 'r--')\n",
    "    xlim(-5,5)\n",
    "    ylim(-5,5)\n",
    "    grid();"
   ]
  },
  {
   "cell_type": "markdown",
   "id": "5af8eb76-87b9-4464-a264-9ee18206e2a5",
   "metadata": {},
   "source": [
    "## Abbildungen und Determinante\n",
    "Zur intuition: https://www.youtube.com/watch?v=Ip3X9LOh2dk&t=149s"
   ]
  },
  {
   "cell_type": "code",
   "execution_count": 4,
   "id": "dddfa2aa-4884-4c0f-8310-6f26775482cb",
   "metadata": {},
   "outputs": [
    {
     "data": {
      "application/vnd.jupyter.widget-view+json": {
       "model_id": "2c6d6f7aee474410be86131960fb18ad",
       "version_major": 2,
       "version_minor": 0
      },
      "text/plain": [
       "interactive(children=(FloatSlider(value=1.0, description='a', max=3.0, min=-3.0), FloatSlider(value=0.0, descr…"
      ]
     },
     "metadata": {},
     "output_type": "display_data"
    },
    {
     "data": {
      "text/plain": [
       "<function __main__.plotTransform(a, b, c, d)>"
      ]
     },
     "execution_count": 4,
     "metadata": {},
     "output_type": "execute_result"
    }
   ],
   "source": [
    "interact(plotTransform, a=widgets.FloatSlider(min=-3, max=3, step=0.1, value=1),\n",
    "         b=widgets.FloatSlider(min=-3, max=3, step=0.1, value=0),\n",
    "         c=widgets.FloatSlider(min=-3, max=3, step=0.1, value=0),\n",
    "         d=widgets.FloatSlider(min=-3, max=3, step=0.1, value=1))\n"
   ]
  },
  {
   "cell_type": "code",
   "execution_count": null,
   "id": "ab7ce863-2a53-4250-9c0e-dfd1863506ad",
   "metadata": {},
   "outputs": [],
   "source": []
  }
 ],
 "metadata": {
  "kernelspec": {
   "display_name": "Python 3 (ipykernel)",
   "language": "python",
   "name": "python3"
  },
  "language_info": {
   "codemirror_mode": {
    "name": "ipython",
    "version": 3
   },
   "file_extension": ".py",
   "mimetype": "text/x-python",
   "name": "python",
   "nbconvert_exporter": "python",
   "pygments_lexer": "ipython3",
   "version": "3.12.1"
  }
 },
 "nbformat": 4,
 "nbformat_minor": 5
}
